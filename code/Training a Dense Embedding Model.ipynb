{
  "nbformat": 4,
  "nbformat_minor": 0,
  "metadata": {
    "colab": {
      "provenance": [],
      "gpuType": "T4"
    },
    "kernelspec": {
      "name": "python3",
      "display_name": "Python 3"
    },
    "language_info": {
      "name": "python"
    },
    "accelerator": "GPU"
  },
  "cells": [
    {
      "cell_type": "markdown",
      "source": [
        "# **Word Embedding Model Training and Evaluation**\n",
        "This notebook demonstrates the training and evaluation of a dense embedding model using Word2Vec (Skip-Gram) on a preprocessed text dataset. The workflow includes:\n",
        "1. Loading and preprocessing the dataset.\n",
        "2. Training the Word2Vec model.\n",
        "3. Embedding Summary.\n",
        "4. Computing semantic similarity between words.\n",
        "5. Visualizing the embeddings and similarity results."
      ],
      "metadata": {
        "id": "qEbIr3lZzOr5"
      }
    },
    {
      "cell_type": "markdown",
      "source": [
        "**Mount Google Drive and Load Dataset**\n",
        "This section mounts Google Drive to access the dataset files.\n"
      ],
      "metadata": {
        "id": "4kXv00LboiP2"
      }
    },
    {
      "cell_type": "code",
      "execution_count": 13,
      "metadata": {
        "colab": {
          "base_uri": "https://localhost:8080/"
        },
        "id": "wrUowPoU9Rsg",
        "outputId": "b080863e-fe56-4ebb-b0a7-4533a61467af"
      },
      "outputs": [
        {
          "output_type": "stream",
          "name": "stdout",
          "text": [
            "Drive already mounted at /content/drive; to attempt to forcibly remount, call drive.mount(\"/content/drive\", force_remount=True).\n",
            "Files in directory: ['Cleaned_file_1.txt', 'Cleaned_file_3.txt', 'Cleaned_file_2.txt', 'Cleaned_file_8.txt', 'Cleaned_file_9.txt', 'Cleaned_file_10.txt', 'Cleaned_file_5.txt', 'Cleaned_file_6.txt', 'Cleaned_file_4.txt', 'Cleaned_file_7.txt']\n"
          ]
        }
      ],
      "source": [
        "import os\n",
        "from google.colab import drive\n",
        "\n",
        "# Mount Google Drive to access files\n",
        "drive.mount('/content/drive')\n",
        "folder_path = '/content/drive/MyDrive/datasetfiles/'\n",
        "files = os.listdir(folder_path)\n",
        "print(\"Files in directory:\", files)"
      ]
    },
    {
      "cell_type": "markdown",
      "source": [
        "**Data Loading and Preprocessing**\n",
        "The dataset is preprocessed to prepare it for training:\n",
        "- Tokenization: Splitting text into words.\n",
        "- Stopword Removal: Removing commonly used words with low semantic value.\n",
        "- Lowercasing: Converting text to lowercase for uniformity.\n",
        "The processed dataset is stored as a list of tokenized documents."
      ],
      "metadata": {
        "id": "mFibPZgfojMx"
      }
    },
    {
      "cell_type": "code",
      "source": [
        "from gensim.utils import simple_preprocess\n",
        "from nltk.corpus import stopwords\n",
        "import nltk\n",
        "\n",
        "nltk.download('stopwords')\n",
        "\n",
        "stop_words = set(stopwords.words('english'))\n",
        "documents = []\n",
        "\n",
        "for filename in files:\n",
        "    with open(os.path.join(folder_path, filename), 'r', encoding='utf-8') as file:\n",
        "        text = file.read()\n",
        "        tokens = [word for word in simple_preprocess(text) if word not in stop_words]  #  remove stop words\n",
        "        documents.append(tokens)\n",
        "\n",
        "print(f\"Loaded and processed {len(documents)} documents.\")"
      ],
      "metadata": {
        "colab": {
          "base_uri": "https://localhost:8080/"
        },
        "id": "KPcDVENwok6g",
        "outputId": "eff1abc4-c5b1-48bc-fc99-3e84ec06a156"
      },
      "execution_count": 14,
      "outputs": [
        {
          "output_type": "stream",
          "name": "stdout",
          "text": [
            "Loaded and processed 10 documents.\n"
          ]
        },
        {
          "output_type": "stream",
          "name": "stderr",
          "text": [
            "[nltk_data] Downloading package stopwords to /root/nltk_data...\n",
            "[nltk_data]   Package stopwords is already up-to-date!\n"
          ]
        }
      ]
    },
    {
      "cell_type": "markdown",
      "source": [
        " **Training the Word2Vec Model**\n",
        "The Word2Vec model is trained using the Skip-Gram approach, which predicts the surrounding context for a given word. Key hyperparameters include:\n",
        "- Embedding dimension: 30\n",
        "- Context window size: 5 words\n",
        "- Minimum word frequency: 2\n",
        "- Learning rate: Adjusted over 100 training epochs\n",
        "\n",
        "The model learns semantic relationships between words, producing embeddings that are saved for evaluation.\n"
      ],
      "metadata": {
        "id": "o3EqwfFm-rCt"
      }
    },
    {
      "cell_type": "code",
      "source": [
        "from gensim.models import Word2Vec\n",
        "\n",
        "embedding_dim = 30\n",
        "model = Word2Vec(\n",
        "    sentences=documents,\n",
        "    vector_size=embedding_dim,\n",
        "    window=5,\n",
        "    min_count=2,\n",
        "    sg=1,  # using Skip gram model\n",
        "    epochs=100,\n",
        "    alpha=0.03,\n",
        "    min_alpha=0.001\n",
        ")\n",
        "\n",
        "print(\"Word2Vec model trained.\")"
      ],
      "metadata": {
        "colab": {
          "base_uri": "https://localhost:8080/"
        },
        "id": "LPBS83Q7pOWQ",
        "outputId": "a5f67e95-f348-4999-ed5a-a53d6038f1a1"
      },
      "execution_count": 15,
      "outputs": [
        {
          "output_type": "stream",
          "name": "stdout",
          "text": [
            "Word2Vec model trained.\n"
          ]
        }
      ]
    },
    {
      "cell_type": "markdown",
      "source": [
        "**Save Word Embeddings**\n",
        "The trained word embeddings are saved to a text file"
      ],
      "metadata": {
        "id": "n1Iw-G6ABM1C"
      }
    },
    {
      "cell_type": "code",
      "source": [
        "model.wv.save_word2vec_format('/content/word_embeddings.txt', binary=False)\n",
        "print(\"Word embeddings saved to 'word_embeddings.txt'.\")"
      ],
      "metadata": {
        "colab": {
          "base_uri": "https://localhost:8080/"
        },
        "id": "Td0NLRYY_DbB",
        "outputId": "a1585a84-65d9-4d88-8bce-dce83a6a5592"
      },
      "execution_count": 16,
      "outputs": [
        {
          "output_type": "stream",
          "name": "stdout",
          "text": [
            "Word embeddings saved to 'word_embeddings.txt'.\n"
          ]
        }
      ]
    },
    {
      "cell_type": "markdown",
      "source": [
        "**Embedding Structure**\n",
        "This section demonstrates:\n",
        "1. Word embeddings for selected sample words from the dataset.\n",
        "2. The vector representation across all 30 dimensions.\n"
      ],
      "metadata": {
        "id": "W5UfaBOpxHiG"
      }
    },
    {
      "cell_type": "code",
      "source": [
        "import pandas as pd\n",
        "import numpy as np\n",
        "\n",
        "\n",
        "# Display the shape of the embeddings matrix\n",
        "embedding_matrix = model.wv.vectors\n",
        "print(f\"Embedding matrix shape: {embedding_matrix.shape}\")\n",
        "\n",
        "num_words, embedding_dim = embedding_matrix.shape\n",
        "print(f\"Number of words: {num_words}\")\n",
        "print(f\"Embedding dimension: {embedding_dim}\")\n",
        "\n",
        "\n",
        "# Display embeddings for some words in the vocabulary\n",
        "sample_words = [\"identity\", \"registration\", \"project\", \"security\", \"card\", \"nadra\"]\n",
        "sample_embeddings = {word: model.wv[word] for word in sample_words if word in model.wv}\n",
        "\n",
        "print(\"Sample Word Embeddings:\")\n",
        "for word, embedding in sample_embeddings.items():\n",
        "    print(f\"{word}: {embedding}\")\n",
        "\n",
        "# convert to a DataFrame for a cleaner display\n",
        "embedding_df = pd.DataFrame(\n",
        "    sample_embeddings\n",
        ")\n",
        "print(\"\\nSample Embeddings as DataFrame:\")\n",
        "print(embedding_df)\n"
      ],
      "metadata": {
        "colab": {
          "base_uri": "https://localhost:8080/"
        },
        "id": "Q_GO9JPFw9a8",
        "outputId": "c8058997-846b-4de9-e413-eb3ddd910265"
      },
      "execution_count": 19,
      "outputs": [
        {
          "output_type": "stream",
          "name": "stdout",
          "text": [
            "Embedding matrix shape: (433, 30)\n",
            "Number of words: 433\n",
            "Embedding dimension: 30\n",
            "Sample Word Embeddings:\n",
            "identity: [-0.47370788 -0.34037572  0.2387438   0.16254635 -0.49466828  0.18916711\n",
            "  0.509218    0.7670908   0.27811    -0.40262374  0.10738358 -0.4085891\n",
            " -0.11807323 -1.3300141   0.5074279  -0.45272192  0.25277618  0.0135094\n",
            "  0.0727261  -0.53115404  0.522026   -0.06360832  0.12740903  0.7639577\n",
            " -0.5757442  -0.41095024  1.1414431   0.6854948  -0.5055022  -0.46924484]\n",
            "registration: [-0.01647476 -0.6393873  -0.23282054  0.16806541 -0.02157548  0.09105916\n",
            "  0.57509804  0.9212992  -0.4770271   0.37314874  1.2156146   0.04322197\n",
            "  0.4543087  -0.690611   -0.09156779  0.15462898  0.43838117 -0.6118084\n",
            " -0.39342502 -0.99269205  0.29252377  0.5388215   0.8130537   0.21335433\n",
            " -0.63114756 -0.4758681   0.86930144  0.8553824   0.786466    0.9254444 ]\n",
            "project: [ 0.28361976  0.14485586 -0.4102116  -0.32825184 -1.5857241   1.3707576\n",
            "  1.541086   -0.36800772 -0.58737564 -0.6290259   0.8081207   0.4338239\n",
            " -0.38550967 -0.1431497  -0.5232484   0.52018815 -0.89435494 -0.04731338\n",
            " -0.33887756  0.17120074 -0.04786761  0.01002901  0.23449416  1.4028909\n",
            " -0.5018853   1.0064838   1.1197656  -0.47025064  0.5708414   0.07635687]\n",
            "security: [ 0.23945577 -0.9410348   1.1405487   0.1497019   0.34570003  0.11731987\n",
            "  0.61229235  0.4810059  -1.3111378   0.9453762  -0.1590138   0.91299194\n",
            " -1.3866465  -0.1271849   1.64699    -0.9356608  -1.272568   -0.8906615\n",
            " -0.05980721 -0.76598495 -0.51135725  1.0102117   1.014305    0.77947026\n",
            " -0.16395934  0.88868153  0.12991099  0.7902814   0.13195224 -1.2563993 ]\n",
            "card: [-0.226835   -0.40592667  0.48837304  0.11811507  0.793173    0.74541193\n",
            "  0.6796101   0.70215577 -0.26200187  0.30811778  0.8451589   0.52718997\n",
            " -0.65102446 -1.0132388  -0.12760516  0.04185103 -0.04693139 -0.2079795\n",
            "  0.6909526  -0.06837399  0.33496127  0.24648128  0.2528911   0.72950757\n",
            " -0.30903587  0.5926746   0.7204114   0.9308142  -0.897982   -0.3181465 ]\n",
            "nadra: [ 0.5307053  -0.00545817  0.35211894  0.49345016 -0.14285684  0.3725494\n",
            "  0.6855471   0.8899175  -0.38967043 -0.18251804  1.2031802   0.29633102\n",
            "  0.2231041   0.4464652  -0.12001127  0.30668628  0.39033002  0.00817512\n",
            " -0.2169662  -0.57245904 -0.36326802 -0.49204347  0.21861543  0.76051575\n",
            " -0.28036895 -0.705114   -0.12583257  0.35098517 -0.28870627 -0.21683216]\n",
            "\n",
            "Sample Embeddings as DataFrame:\n",
            "    identity  registration   project  security      card     nadra\n",
            "0  -0.473708     -0.016475  0.283620  0.239456 -0.226835  0.530705\n",
            "1  -0.340376     -0.639387  0.144856 -0.941035 -0.405927 -0.005458\n",
            "2   0.238744     -0.232821 -0.410212  1.140549  0.488373  0.352119\n",
            "3   0.162546      0.168065 -0.328252  0.149702  0.118115  0.493450\n",
            "4  -0.494668     -0.021575 -1.585724  0.345700  0.793173 -0.142857\n",
            "5   0.189167      0.091059  1.370758  0.117320  0.745412  0.372549\n",
            "6   0.509218      0.575098  1.541086  0.612292  0.679610  0.685547\n",
            "7   0.767091      0.921299 -0.368008  0.481006  0.702156  0.889917\n",
            "8   0.278110     -0.477027 -0.587376 -1.311138 -0.262002 -0.389670\n",
            "9  -0.402624      0.373149 -0.629026  0.945376  0.308118 -0.182518\n",
            "10  0.107384      1.215615  0.808121 -0.159014  0.845159  1.203180\n",
            "11 -0.408589      0.043222  0.433824  0.912992  0.527190  0.296331\n",
            "12 -0.118073      0.454309 -0.385510 -1.386647 -0.651024  0.223104\n",
            "13 -1.330014     -0.690611 -0.143150 -0.127185 -1.013239  0.446465\n",
            "14  0.507428     -0.091568 -0.523248  1.646990 -0.127605 -0.120011\n",
            "15 -0.452722      0.154629  0.520188 -0.935661  0.041851  0.306686\n",
            "16  0.252776      0.438381 -0.894355 -1.272568 -0.046931  0.390330\n",
            "17  0.013509     -0.611808 -0.047313 -0.890661 -0.207980  0.008175\n",
            "18  0.072726     -0.393425 -0.338878 -0.059807  0.690953 -0.216966\n",
            "19 -0.531154     -0.992692  0.171201 -0.765985 -0.068374 -0.572459\n",
            "20  0.522026      0.292524 -0.047868 -0.511357  0.334961 -0.363268\n",
            "21 -0.063608      0.538822  0.010029  1.010212  0.246481 -0.492043\n",
            "22  0.127409      0.813054  0.234494  1.014305  0.252891  0.218615\n",
            "23  0.763958      0.213354  1.402891  0.779470  0.729508  0.760516\n",
            "24 -0.575744     -0.631148 -0.501885 -0.163959 -0.309036 -0.280369\n",
            "25 -0.410950     -0.475868  1.006484  0.888682  0.592675 -0.705114\n",
            "26  1.141443      0.869301  1.119766  0.129911  0.720411 -0.125833\n",
            "27  0.685495      0.855382 -0.470251  0.790281  0.930814  0.350985\n",
            "28 -0.505502      0.786466  0.570841  0.131952 -0.897982 -0.288706\n",
            "29 -0.469245      0.925444  0.076357 -1.256399 -0.318146 -0.216832\n"
          ]
        }
      ]
    },
    {
      "cell_type": "markdown",
      "source": [
        " **Evaluation of Word Embeddings**\n",
        "This section evaluates the trained embeddings:\n",
        "1. **Cosine Similarity:** Measures semantic closeness between words by computing the cosine of the angle between their embedding vectors.\n",
        "2. **Similarity Matrix:** Displays a subset (6x6) of the similarity matrix for clarity and saves the full matrix as a CSV.\n",
        "3. **2D Visualization:** Uses t-SNE for dimensionality reduction to plot relationships between embeddings.\n"
      ],
      "metadata": {
        "id": "nDHNMfsFCOwN"
      }
    },
    {
      "cell_type": "code",
      "source": [
        "from sklearn.metrics.pairwise import cosine_similarity\n",
        "\n",
        "words_in_vocab = list(model.wv.index_to_key)\n",
        "similarity_data = {}\n",
        "\n",
        "# Compute cosine similarity for each word pair\n",
        "for word1 in words_in_vocab:\n",
        "    similarity_data[word1] = []\n",
        "    for word2 in words_in_vocab:\n",
        "        if word1 in model.wv and word2 in model.wv:\n",
        "            similarity_score = cosine_similarity([model.wv[word1]], [model.wv[word2]])[0][0]\n",
        "        else:\n",
        "            similarity_score = None\n",
        "        similarity_data[word1].append(similarity_score)\n",
        "\n",
        "similarity_df = pd.DataFrame(similarity_data, index=words_in_vocab)\n",
        "# Saving the full cosine similarity matrix to a CSV file\n",
        "similarity_df.to_csv(\"/content/drive/MyDrive/cosine_similarity_matrix.csv\")\n",
        "print(\"Cosine Similarity matrix has been successfully saved.\")"
      ],
      "metadata": {
        "colab": {
          "base_uri": "https://localhost:8080/"
        },
        "id": "e7BAMpn1ERyn",
        "outputId": "e911b132-d44a-4cb7-bc00-564bf441f378"
      },
      "execution_count": 20,
      "outputs": [
        {
          "output_type": "stream",
          "name": "stdout",
          "text": [
            "Cosine Similarity matrix has been successfully saved.\n"
          ]
        }
      ]
    },
    {
      "cell_type": "markdown",
      "source": [
        "Cosine Similarity"
      ],
      "metadata": {
        "id": "CZkdkYHfV9jl"
      }
    },
    {
      "cell_type": "code",
      "source": [
        "#  printing only a 6x6 subset of the similarity matrix for clarity and readability\n",
        "subset_similarity_df = similarity_df.iloc[:6, :6]\n",
        "print(\"Cosine Similarity Matrix for 6x6\")\n",
        "print(subset_similarity_df)"
      ],
      "metadata": {
        "colab": {
          "base_uri": "https://localhost:8080/"
        },
        "id": "NVn_yusYF0Go",
        "outputId": "54d44b27-6093-4125-daf2-154520326994"
      },
      "execution_count": 21,
      "outputs": [
        {
          "output_type": "stream",
          "name": "stdout",
          "text": [
            "Cosine Similarity Matrix for 6x6\n",
            "                 nadra  identity  registration  downloads      card  projects\n",
            "nadra         1.000000  0.256452      0.451311   0.403554  0.319771  0.436730\n",
            "identity      0.256452  1.000000      0.439070   0.211899  0.556876  0.355257\n",
            "registration  0.451311  0.439070      1.000000   0.258924  0.383014  0.492361\n",
            "downloads     0.403554  0.211899      0.258924   1.000000  0.406657  0.439047\n",
            "card          0.319771  0.556876      0.383014   0.406657  1.000000  0.378983\n",
            "projects      0.436730  0.355257      0.492361   0.439047  0.378983  1.000000\n"
          ]
        }
      ]
    },
    {
      "cell_type": "markdown",
      "source": [
        "2D Visualization"
      ],
      "metadata": {
        "id": "MBEzHc6PWLk6"
      }
    },
    {
      "cell_type": "code",
      "source": [
        "from sklearn.manifold import TSNE\n",
        "import matplotlib.pyplot as plt\n",
        "\n",
        "# Select first 30 words for visualization. Limited to 30 words for clarity.\n",
        "words_in_vocab = list(model.wv.index_to_key)[:30]\n",
        "word_vectors = np.array([model.wv[word] for word in words_in_vocab])\n",
        "tsne = TSNE(n_components=2, random_state=0, perplexity=5)\n",
        "word_embeddings_2d = tsne.fit_transform(word_vectors)\n",
        "plt.figure(figsize=(12, 8))\n",
        "plt.scatter(word_embeddings_2d[:, 0], word_embeddings_2d[:, 1], marker='o')\n",
        "for i, word in enumerate(words_in_vocab):\n",
        "    plt.annotate(word, xy=(word_embeddings_2d[i, 0], word_embeddings_2d[i, 1]),\n",
        "                 xytext=(5, 2), textcoords='offset points', ha='right', fontsize=8)\n",
        "\n",
        "plt.title(\"2D Visualization of Word Embeddings (First 30 Words)\")\n",
        "plt.show()\n",
        "\n"
      ],
      "metadata": {
        "colab": {
          "base_uri": "https://localhost:8080/",
          "height": 699
        },
        "id": "1MRi2p1ppn8-",
        "outputId": "fc703ebb-d656-4d9a-966f-357a1df10078"
      },
      "execution_count": 22,
      "outputs": [
        {
          "output_type": "display_data",
          "data": {
            "text/plain": [
              "<Figure size 1200x800 with 1 Axes>"
            ],
            "image/png": "[encoded data removed]"
          },
          "metadata": {}
        }
      ]
    }
  ]
}